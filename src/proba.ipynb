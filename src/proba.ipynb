{
 "cells": [
  {
   "cell_type": "code",
   "execution_count": 2,
   "metadata": {},
   "outputs": [
    {
     "name": "stderr",
     "output_type": "stream",
     "text": [
      "c:\\Users\\llucfurriols\\Anaconda3\\lib\\site-packages\\sklearn\\impute\\_iterative.py:699: ConvergenceWarning: [IterativeImputer] Early stopping criterion not reached.\n",
      "  warnings.warn(\n"
     ]
    },
    {
     "name": "stdout",
     "output_type": "stream",
     "text": [
      "(50287, 17) (12572, 17) (50287,) (12572,)\n",
      "              precision    recall  f1-score   support\n",
      "\n",
      "           0       0.85      0.85      0.85      6290\n",
      "           1       0.85      0.85      0.85      6282\n",
      "\n",
      "    accuracy                           0.85     12572\n",
      "   macro avg       0.85      0.85      0.85     12572\n",
      "weighted avg       0.85      0.85      0.85     12572\n",
      "\n"
     ]
    }
   ],
   "source": [
    "import pandas as pd\n",
    "from sklearn.model_selection import train_test_split\n",
    "from sklearn.ensemble import RandomForestClassifier\n",
    "from sklearn.metrics import classification_report\n",
    "from sklearn.experimental import enable_iterative_imputer\n",
    "from sklearn.impute import IterativeImputer\n",
    "from sklearn.pipeline import Pipeline\n",
    "\n",
    "# Load your DataFrame\n",
    "rain_data = pd.read_csv('../assets/rain_data.csv')\n",
    "\n",
    "# Handle missing values in 'RainToday' and 'RainTomorrow' before conversion\n",
    "# Option 1: Drop rows with missing 'RainToday' or 'RainTomorrow'\n",
    "rain_data.dropna(subset=['RainToday', 'RainTomorrow'], inplace=True)\n",
    "\n",
    "# Convert 'RainToday' and 'RainTomorrow' to binary (0 and 1)\n",
    "rain_data['RainToday'] = rain_data['RainToday'].map({'No': 0, 'Yes': 1})\n",
    "rain_data['RainTomorrow'] = rain_data['RainTomorrow'].map({'No': 0, 'Yes': 1})\n",
    "\n",
    "# Dropping categorical columns to simplify the example\n",
    "weatherAUS_imputed = rain_data.select_dtypes(exclude=['object'])\n",
    "\n",
    "# Use IterativeImputer to handle missing values in numerical columns\n",
    "imputer = IterativeImputer(random_state=42)  # You can adjust parameters as needed\n",
    "numerical_columns = weatherAUS_imputed.select_dtypes(include=['float64', 'int64']).columns\n",
    "weatherAUS_imputed[numerical_columns] = imputer.fit_transform(weatherAUS_imputed[numerical_columns])\n",
    "\n",
    "# Separate features and target\n",
    "X = weatherAUS_imputed.drop('RainTomorrow', axis=1)\n",
    "y = weatherAUS_imputed['RainTomorrow'].astype(int)  # Ensure y is integer type\n",
    "\n",
    "# Split the data into training and test sets\n",
    "X_train, X_test, y_train, y_test = train_test_split(X, y, test_size=0.2, random_state=42)\n",
    "\n",
    "print(X_train.shape, X_test.shape, y_train.shape, y_test.shape)\n",
    "\n",
    "# Create a pipeline with RandomForestClassifier\n",
    "pipeline = Pipeline([\n",
    "    ('classifier', RandomForestClassifier(random_state=42))\n",
    "])\n",
    "\n",
    "# Train the model\n",
    "pipeline.fit(X_train, y_train)\n",
    "\n",
    "# Predict on the test set\n",
    "y_pred = pipeline.predict(X_test)\n",
    "\n",
    "# Generate the classification report\n",
    "print(classification_report(y_test, y_pred))"
   ]
  }
 ],
 "metadata": {
  "kernelspec": {
   "display_name": "base",
   "language": "python",
   "name": "python3"
  },
  "language_info": {
   "codemirror_mode": {
    "name": "ipython",
    "version": 3
   },
   "file_extension": ".py",
   "mimetype": "text/x-python",
   "name": "python",
   "nbconvert_exporter": "python",
   "pygments_lexer": "ipython3",
   "version": "3.9.12"
  }
 },
 "nbformat": 4,
 "nbformat_minor": 2
}
